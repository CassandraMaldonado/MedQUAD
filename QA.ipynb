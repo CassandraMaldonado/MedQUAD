{
 "cells": [
  {
   "cell_type": "code",
   "execution_count": 16,
   "metadata": {},
   "outputs": [],
   "source": [
    "import pandas as pd\n",
    "import numpy as np"
   ]
  },
  {
   "cell_type": "code",
   "execution_count": 21,
   "metadata": {},
   "outputs": [],
   "source": [
    "# Import an xml file\n",
    "from lxml import etree"
   ]
  },
  {
   "cell_type": "code",
   "execution_count": 23,
   "metadata": {},
   "outputs": [],
   "source": [
    "# Read the XML file\n",
    "def read_xml(file_path):\n",
    "    \"\"\"\n",
    "    Reads an XML file and returns a DataFrame.\n",
    "    \n",
    "    Args:\n",
    "        file_path (str): Path to the XML file.\n",
    "        \n",
    "    Returns:\n",
    "        pd.DataFrame: DataFrame containing the data from the XML file.\n",
    "    \"\"\"\n",
    "    # Parse the XML file\n",
    "    tree = etree.parse(file_path)\n",
    "    root = tree.getroot()\n",
    "    data = []\n",
    "    # Iterate through each child element of the root\n",
    "    for child in root:\n",
    "        row = {}\n",
    "        for elem in child:\n",
    "            row[elem.tag] = elem.text\n",
    "        data.append(row)\n",
    "    # Convert the list of dictionaries to a DataFrame\n",
    "    df = pd.DataFrame(data)\n",
    "    return df"
   ]
  },
  {
   "cell_type": "code",
   "execution_count": 24,
   "metadata": {},
   "outputs": [
    {
     "name": "stdout",
     "output_type": "stream",
     "text": [
      "  Original-Question                                    NIST-PARAPHRASE  \\\n",
      "0          \\n\\t\\t\\t  What is the relationship between Noonan syndro...   \n",
      "1          \\n\\t\\t\\t      Do 5 mg. Zolmitriptan tabkets contain gluten?   \n",
      "2          \\n\\t\\t\\t  Are amphetamine salts of 20 mg dosage gluten f...   \n",
      "3          \\n\\t\\t\\t  What are the treatments and precautions for VD...   \n",
      "4          \\n\\t\\t\\t           How much glucagon is in my GlucaGen kit?   \n",
      "\n",
      "  ANNOTATIONS ReferenceAnswers  \n",
      "0    \\n\\t\\t\\t         \\n\\t\\t\\t  \n",
      "1    \\n\\t\\t\\t         \\n\\t\\t\\t  \n",
      "2    \\n\\t\\t\\t         \\n\\t\\t\\t  \n",
      "3    \\n\\t\\t\\t         \\n\\t\\t\\t  \n",
      "4    \\n\\t\\t\\t         \\n\\t\\t\\t  \n"
     ]
    }
   ],
   "source": [
    "# Read the XML file\n",
    "file_path = '/Users/casey/Documents/GitHub/MedQuAD/TREC-2017-LiveQA-Medical-Test.xml'\n",
    "df = read_xml(file_path)\n",
    "# Display the first few rows of the DataFrame\n",
    "print(df.head())"
   ]
  },
  {
   "cell_type": "code",
   "execution_count": 25,
   "metadata": {},
   "outputs": [
    {
     "name": "stdout",
     "output_type": "stream",
     "text": [
      "Number of rows: 104\n",
      "Number of columns: 4\n"
     ]
    }
   ],
   "source": [
    "# Count number of rows and columns\n",
    "num_rows, num_cols = df.shape\n",
    "print(f\"Number of rows: {num_rows}\")\n",
    "print(f\"Number of columns: {num_cols}\")"
   ]
  },
  {
   "cell_type": "code",
   "execution_count": 26,
   "metadata": {},
   "outputs": [
    {
     "name": "stdout",
     "output_type": "stream",
     "text": [
      "One full row:\n",
      "Original-Question                                             \\n\\t\\t\\t\n",
      "NIST-PARAPHRASE      What is the relationship between Noonan syndro...\n",
      "ANNOTATIONS                                                   \\n\\t\\t\\t\n",
      "ReferenceAnswers                                              \\n\\t\\t\\t\n",
      "Name: 0, dtype: object\n",
      "Column names:\n",
      "['Original-Question', 'NIST-PARAPHRASE', 'ANNOTATIONS', 'ReferenceAnswers']\n",
      "Data types:\n"
     ]
    }
   ],
   "source": [
    "# Sow one full row\n",
    "print(\"One full row:\")\n",
    "print(df.iloc[0])\n",
    "# Display the column names\n",
    "print(\"Column names:\")\n",
    "print(df.columns.tolist())\n",
    "# Display the data types of each column\n",
    "print(\"Data types:\")"
   ]
  }
 ],
 "metadata": {
  "kernelspec": {
   "display_name": "base",
   "language": "python",
   "name": "python3"
  },
  "language_info": {
   "codemirror_mode": {
    "name": "ipython",
    "version": 3
   },
   "file_extension": ".py",
   "mimetype": "text/x-python",
   "name": "python",
   "nbconvert_exporter": "python",
   "pygments_lexer": "ipython3",
   "version": "3.12.2"
  }
 },
 "nbformat": 4,
 "nbformat_minor": 2
}
