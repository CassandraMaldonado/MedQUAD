{
 "cells": [
  {
   "cell_type": "code",
   "execution_count": 3,
   "metadata": {},
   "outputs": [],
   "source": [
    "import pandas as pd\n",
    "import numpy as np"
   ]
  },
  {
   "cell_type": "code",
   "execution_count": 4,
   "metadata": {},
   "outputs": [],
   "source": [
    "import xml.etree.ElementTree as ET\n",
    "\n",
    "# Path to your XML file\n",
    "xml_file = \"TREC-2017-LiveQA-Medical-Test-Questions-w-summaries.xml\"\n",
    "\n",
    "# Parse the XML\n",
    "tree = ET.parse(xml_file)\n",
    "root = tree.getroot()\n"
   ]
  },
  {
   "cell_type": "code",
   "execution_count": 5,
   "metadata": {},
   "outputs": [],
   "source": [
    "# Print top-level tags and their structure\n",
    "for question in root.findall(\".//question\"):\n",
    "    q_id = question.get(\"id\")\n",
    "    q_body = question.findtext(\"body\")\n",
    "    ideal_answer = question.findtext(\"ideal_answer\")\n",
    "    exact_answer = question.findtext(\"exact_answer\")\n",
    "\n",
    "    print(f\"Question ID: {q_id}\")\n",
    "    print(f\"Question: {q_body}\")\n",
    "    print(f\"Ideal Answer: {ideal_answer}\")\n",
    "    print(f\"Exact Answer: {exact_answer}\")\n",
    "    print(\"-\" * 50)"
   ]
  },
  {
   "cell_type": "code",
   "execution_count": null,
   "metadata": {},
   "outputs": [],
   "source": [
    "# "
   ]
  }
 ],
 "metadata": {
  "kernelspec": {
   "display_name": "base",
   "language": "python",
   "name": "python3"
  },
  "language_info": {
   "codemirror_mode": {
    "name": "ipython",
    "version": 3
   },
   "file_extension": ".py",
   "mimetype": "text/x-python",
   "name": "python",
   "nbconvert_exporter": "python",
   "pygments_lexer": "ipython3",
   "version": "3.12.2"
  }
 },
 "nbformat": 4,
 "nbformat_minor": 2
}
