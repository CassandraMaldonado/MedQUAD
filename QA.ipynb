{
 "cells": [
  {
   "cell_type": "code",
   "execution_count": 16,
   "metadata": {},
   "outputs": [],
   "source": [
    "import pandas as pd\n",
    "import numpy as np"
   ]
  },
  {
   "cell_type": "code",
   "execution_count": 21,
   "metadata": {},
   "outputs": [],
   "source": [
    "# Import an xml file\n",
    "from lxml import etree"
   ]
  },
  {
   "cell_type": "code",
   "execution_count": 23,
   "metadata": {},
   "outputs": [],
   "source": [
    "# Read the XML file\n",
    "def read_xml(file_path):\n",
    "    \"\"\"\n",
    "    Reads an XML file and returns a DataFrame.\n",
    "    \n",
    "    Args:\n",
    "        file_path (str): Path to the XML file.\n",
    "        \n",
    "    Returns:\n",
    "        pd.DataFrame: DataFrame containing the data from the XML file.\n",
    "    \"\"\"\n",
    "    # Parse the XML file\n",
    "    tree = etree.parse(file_path)\n",
    "    root = tree.getroot()\n",
    "    data = []\n",
    "    # Iterate through each child element of the root\n",
    "    for child in root:\n",
    "        row = {}\n",
    "        for elem in child:\n",
    "            row[elem.tag] = elem.text\n",
    "        data.append(row)\n",
    "    # Convert the list of dictionaries to a DataFrame\n",
    "    df = pd.DataFrame(data)\n",
    "    return df"
   ]
  },
  {
   "cell_type": "code",
   "execution_count": 24,
   "metadata": {},
   "outputs": [
    {
     "name": "stdout",
     "output_type": "stream",
     "text": [
      "  Original-Question                                    NIST-PARAPHRASE  \\\n",
      "0          \\n\\t\\t\\t  What is the relationship between Noonan syndro...   \n",
      "1          \\n\\t\\t\\t      Do 5 mg. Zolmitriptan tabkets contain gluten?   \n",
      "2          \\n\\t\\t\\t  Are amphetamine salts of 20 mg dosage gluten f...   \n",
      "3          \\n\\t\\t\\t  What are the treatments and precautions for VD...   \n",
      "4          \\n\\t\\t\\t           How much glucagon is in my GlucaGen kit?   \n",
      "\n",
      "  ANNOTATIONS ReferenceAnswers  \n",
      "0    \\n\\t\\t\\t         \\n\\t\\t\\t  \n",
      "1    \\n\\t\\t\\t         \\n\\t\\t\\t  \n",
      "2    \\n\\t\\t\\t         \\n\\t\\t\\t  \n",
      "3    \\n\\t\\t\\t         \\n\\t\\t\\t  \n",
      "4    \\n\\t\\t\\t         \\n\\t\\t\\t  \n"
     ]
    }
   ],
   "source": [
    "# Read the XML file\n",
    "file_path = '/Users/casey/Documents/GitHub/MedQuAD/TREC-2017-LiveQA-Medical-Test.xml'\n",
    "df = read_xml(file_path)\n",
    "# Display the first few rows of the DataFrame\n",
    "print(df.head())"
   ]
  },
  {
   "cell_type": "code",
   "execution_count": 25,
   "metadata": {},
   "outputs": [
    {
     "name": "stdout",
     "output_type": "stream",
     "text": [
      "Number of rows: 104\n",
      "Number of columns: 4\n"
     ]
    }
   ],
   "source": [
    "# Count number of rows and columns\n",
    "num_rows, num_cols = df.shape\n",
    "print(f\"Number of rows: {num_rows}\")\n",
    "print(f\"Number of columns: {num_cols}\")"
   ]
  },
  {
   "cell_type": "code",
   "execution_count": 26,
   "metadata": {},
   "outputs": [
    {
     "name": "stdout",
     "output_type": "stream",
     "text": [
      "One full row:\n",
      "Original-Question                                             \\n\\t\\t\\t\n",
      "NIST-PARAPHRASE      What is the relationship between Noonan syndro...\n",
      "ANNOTATIONS                                                   \\n\\t\\t\\t\n",
      "ReferenceAnswers                                              \\n\\t\\t\\t\n",
      "Name: 0, dtype: object\n",
      "Column names:\n",
      "['Original-Question', 'NIST-PARAPHRASE', 'ANNOTATIONS', 'ReferenceAnswers']\n",
      "Data types:\n"
     ]
    }
   ],
   "source": [
    "# Show one full row\n",
    "print(\"One full row:\")\n",
    "print(df.iloc[0])\n",
    "# Display the column names\n",
    "print(\"Column names:\")\n",
    "print(df.columns.tolist())\n",
    "# Display the data types of each column\n",
    "print(\"Data types:\")"
   ]
  },
  {
   "cell_type": "markdown",
   "metadata": {},
   "source": [
    "# Section 2"
   ]
  },
  {
   "cell_type": "code",
   "execution_count": 28,
   "metadata": {},
   "outputs": [
    {
     "name": "stdout",
     "output_type": "stream",
     "text": [
      "  Original-Question                                    NIST-PARAPHRASE  \\\n",
      "0          \\n\\t\\t\\t  What is the relationship between Noonan syndro...   \n",
      "1          \\n\\t\\t\\t      Do 5 mg. Zolmitriptan tabkets contain gluten?   \n",
      "2          \\n\\t\\t\\t  Are amphetamine salts of 20 mg dosage gluten f...   \n",
      "3          \\n\\t\\t\\t  What are the treatments and precautions for VD...   \n",
      "4          \\n\\t\\t\\t           How much glucagon is in my GlucaGen kit?   \n",
      "\n",
      "                                         NLM-Summary ANNOTATIONS  \\\n",
      "0  What is the relationship between Noonan syndro...    \\n\\t\\t\\t   \n",
      "1   Do Zolmitriptan 5mg tablets manufactured by G...    \\n\\t\\t\\t   \n",
      "2  Do amphetamine salts 20mg tablets contain gluten?    \\n\\t\\t\\t   \n",
      "3  What are the treatments and precautions for VD...    \\n\\t\\t\\t   \n",
      "4  How much glucagon is in the GlucaGen HypoKit a...    \\n\\t\\t\\t   \n",
      "\n",
      "  ReferenceAnswers  \n",
      "0         \\n\\t\\t\\t  \n",
      "1         \\n\\t\\t\\t  \n",
      "2         \\n\\t\\t\\t  \n",
      "3         \\n\\t\\t\\t  \n",
      "4         \\n\\t\\t\\t  \n"
     ]
    }
   ],
   "source": [
    "# Read the XML file\n",
    "file_path = '/Users/casey/Documents/GitHub/MedQuAD/TREC-2017-LiveQA-Medical-Test-Questions-w-summaries.xml'\n",
    "df1 = read_xml(file_path)\n",
    "# Display the first few rows of the DataFrame\n",
    "print(df1.head())"
   ]
  },
  {
   "cell_type": "code",
   "execution_count": 29,
   "metadata": {},
   "outputs": [
    {
     "name": "stdout",
     "output_type": "stream",
     "text": [
      "Number of rows: 104\n",
      "Number of columns: 5\n"
     ]
    }
   ],
   "source": [
    "# Count number of rows and columns\n",
    "num_rows, num_cols = df1.shape\n",
    "print(f\"Number of rows: {num_rows}\")\n",
    "print(f\"Number of columns: {num_cols}\")"
   ]
  },
  {
   "cell_type": "code",
   "execution_count": 30,
   "metadata": {},
   "outputs": [
    {
     "name": "stdout",
     "output_type": "stream",
     "text": [
      "One full row:\n",
      "Original-Question                                             \\n\\t\\t\\t\n",
      "NIST-PARAPHRASE      What is the relationship between Noonan syndro...\n",
      "NLM-Summary          What is the relationship between Noonan syndro...\n",
      "ANNOTATIONS                                                   \\n\\t\\t\\t\n",
      "ReferenceAnswers                                              \\n\\t\\t\\t\n",
      "Name: 0, dtype: object\n"
     ]
    }
   ],
   "source": [
    "# Show one full row\n",
    "print(\"One full row:\")\n",
    "print(df.iloc[0])"
   ]
  },
  {
   "cell_type": "code",
   "execution_count": 31,
   "metadata": {},
   "outputs": [
    {
     "name": "stdout",
     "output_type": "stream",
     "text": [
      "First NIST-PARAPHRASE:\n",
      "What is the relationship between Noonan syndrome and polycystic renal disease?\n"
     ]
    }
   ],
   "source": [
    "# First NIST-PARAPHRASE \n",
    "print(\"First NIST-PARAPHRASE:\")\n",
    "print(df1.iloc[0]['NIST-PARAPHRASE'])"
   ]
  },
  {
   "cell_type": "code",
   "execution_count": 32,
   "metadata": {},
   "outputs": [
    {
     "name": "stdout",
     "output_type": "stream",
     "text": [
      "First NLM-Summary:\n",
      "What is the relationship between Noonan syndrome and polycystic renal disease?\n"
     ]
    }
   ],
   "source": [
    "# First NLM-Summary\n",
    "print(\"First NLM-Summary:\")\n",
    "print(df1.iloc[0]['NLM-Summary'])   "
   ]
  },
  {
   "cell_type": "markdown",
   "metadata": {},
   "source": [
    "# Section 3"
   ]
  },
  {
   "cell_type": "code",
   "execution_count": 33,
   "metadata": {},
   "outputs": [],
   "source": [
    "# Import txt file /Users/casey/Documents/GitHub/MedQuAD/TREC-2017-LiveQA-Medical-qrels-NIST-692.txt\n",
    "def read_txt(file_path):\n",
    "    \"\"\"\n",
    "    Reads a text file and returns a DataFrame.\n",
    "    \n",
    "    Args:\n",
    "        file_path (str): Path to the text file.\n",
    "        \n",
    "    Returns:\n",
    "        pd.DataFrame: DataFrame containing the data from the text file.\n",
    "    \"\"\"\n",
    "    # Read the text file into a DataFrame\n",
    "    df = pd.read_csv(file_path, sep=\"\\t\", header=None)\n",
    "    return df\n",
    "# Read the text file\n",
    "file_path = '/Users/casey/Documents/GitHub/MedQuAD/TREC-2017-LiveQA-Medical-qrels-NIST-692.txt'\n",
    "df2 = read_txt(file_path)"
   ]
  },
  {
   "cell_type": "code",
   "execution_count": 34,
   "metadata": {},
   "outputs": [
    {
     "name": "stdout",
     "output_type": "stream",
     "text": [
      "                                                   0\n",
      "0  1 3 Noonan syndrome is a relatively common aut...\n",
      "1  1 3 Noonan syndrome is a relatively common aut...\n",
      "2  1 1 My grandson has Noonan and also albino. He...\n",
      "3  1 3 Background: Noonan syndrome was first reco...\n",
      "4  1 2 The syndrome is named after Dr Jacqueline ...\n"
     ]
    }
   ],
   "source": [
    "# Display the first few rows of the DataFrame\n",
    "print(df2.head())"
   ]
  },
  {
   "cell_type": "code",
   "execution_count": 35,
   "metadata": {},
   "outputs": [
    {
     "name": "stdout",
     "output_type": "stream",
     "text": [
      "Number of rows: 692\n",
      "Number of columns: 1\n"
     ]
    }
   ],
   "source": [
    "# Count number of rows and columns\n",
    "num_rows, num_cols = df2.shape\n",
    "print(f\"Number of rows: {num_rows}\")\n",
    "print(f\"Number of columns: {num_cols}\")"
   ]
  },
  {
   "cell_type": "code",
   "execution_count": 36,
   "metadata": {},
   "outputs": [
    {
     "name": "stdout",
     "output_type": "stream",
     "text": [
      "One full row:\n",
      "0    1 3 Noonan syndrome is a relatively common aut...\n",
      "Name: 0, dtype: object\n"
     ]
    }
   ],
   "source": [
    "# Show one full row\n",
    "print(\"One full row:\")\n",
    "print(df2.iloc[0])"
   ]
  },
  {
   "cell_type": "markdown",
   "metadata": {},
   "source": [
    "# Mashqa_data"
   ]
  },
  {
   "cell_type": "code",
   "execution_count": 37,
   "metadata": {},
   "outputs": [],
   "source": [
    "# Import the json file\n",
    "import json\n",
    "# Read the JSON file\n",
    "def read_json(file_path):\n",
    "    \"\"\"\n",
    "    Reads a JSON file and returns a DataFrame.\n",
    "    \n",
    "    Args:\n",
    "        file_path (str): Path to the JSON file.\n",
    "        \n",
    "    Returns:\n",
    "        pd.DataFrame: DataFrame containing the data from the JSON file.\n",
    "    \"\"\"\n",
    "    # Read the JSON file into a DataFrame\n",
    "    df = pd.read_json(file_path)\n",
    "    return df\n",
    "# Read the JSON file\n",
    "file_path = '/Users/casey/Documents/GitHub/MedQuAD/test_webmd_squad_v2_full.json'\n",
    "df3 = read_json(file_path)"
   ]
  },
  {
   "cell_type": "code",
   "execution_count": 38,
   "metadata": {},
   "outputs": [
    {
     "name": "stdout",
     "output_type": "stream",
     "text": [
      "   version                                               data\n",
      "0        2  {'title': 'https://www.webmd.com/a-to-z-guides...\n",
      "1        2  {'title': 'https://www.webmd.com/cancer/polycy...\n",
      "2        2  {'title': 'https://www.webmd.com/vitamins-and-...\n",
      "3        2  {'title': 'https://www.webmd.com/cholesterol-m...\n",
      "4        2  {'title': 'https://www.webmd.com/arthritis/cli...\n"
     ]
    }
   ],
   "source": [
    "# Display the first few rows of the DataFrame\n",
    "print(df3.head())"
   ]
  },
  {
   "cell_type": "code",
   "execution_count": 39,
   "metadata": {},
   "outputs": [
    {
     "name": "stdout",
     "output_type": "stream",
     "text": [
      "Number of rows: 521\n",
      "Number of columns: 2\n"
     ]
    }
   ],
   "source": [
    "# Count number of rows and columns\n",
    "num_rows, num_cols = df3.shape\n",
    "print(f\"Number of rows: {num_rows}\")\n",
    "print(f\"Number of columns: {num_cols}\")"
   ]
  }
 ],
 "metadata": {
  "kernelspec": {
   "display_name": "base",
   "language": "python",
   "name": "python3"
  },
  "language_info": {
   "codemirror_mode": {
    "name": "ipython",
    "version": 3
   },
   "file_extension": ".py",
   "mimetype": "text/x-python",
   "name": "python",
   "nbconvert_exporter": "python",
   "pygments_lexer": "ipython3",
   "version": "3.12.2"
  }
 },
 "nbformat": 4,
 "nbformat_minor": 2
}
